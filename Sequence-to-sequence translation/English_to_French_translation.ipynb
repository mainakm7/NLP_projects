{
 "cells": [
  {
   "cell_type": "code",
   "execution_count": 1,
   "metadata": {},
   "outputs": [],
   "source": [
    "%load_ext autoreload\n",
    "%aimport helper, tests\n",
    "%autoreload 1"
   ]
  },
  {
   "cell_type": "code",
   "execution_count": 18,
   "metadata": {},
   "outputs": [],
   "source": [
    "import collections\n",
    "\n",
    "import helper\n",
    "import numpy as np\n",
    "import project_tests as tests\n",
    "\n",
    "from keras.preprocessing.text import Tokenizer\n",
    "from keras.preprocessing.sequence import pad_sequences\n",
    "from keras.models import Model,Sequential\n",
    "from keras.layers import GRU, Input, Dense, TimeDistributed, Activation, RepeatVector, Bidirectional,BatchNormalization\n",
    "from keras.layers.embeddings import Embedding\n",
    "from keras.optimizers import Adam\n",
    "from keras.losses import sparse_categorical_crossentropy"
   ]
  },
  {
   "cell_type": "code",
   "execution_count": 3,
   "metadata": {},
   "outputs": [
    {
     "name": "stdout",
     "output_type": "stream",
     "text": [
      "[name: \"/cpu:0\"\n",
      "device_type: \"CPU\"\n",
      "memory_limit: 268435456\n",
      "locality {\n",
      "}\n",
      "incarnation: 14680403688388806390\n",
      ", name: \"/gpu:0\"\n",
      "device_type: \"GPU\"\n",
      "memory_limit: 358744064\n",
      "locality {\n",
      "  bus_id: 1\n",
      "}\n",
      "incarnation: 2763980261787646926\n",
      "physical_device_desc: \"device: 0, name: Tesla K80, pci bus id: 0000:00:05.0\"\n",
      "]\n"
     ]
    }
   ],
   "source": [
    "from tensorflow.python.client import device_lib\n",
    "print(device_lib.list_local_devices())"
   ]
  },
  {
   "cell_type": "code",
   "execution_count": 4,
   "metadata": {},
   "outputs": [
    {
     "name": "stdout",
     "output_type": "stream",
     "text": [
      "Dataset Loaded\n"
     ]
    }
   ],
   "source": [
    "# Load English data\n",
    "english_sentences = helper.load_data('data/small_vocab_en')\n",
    "# Load French data\n",
    "french_sentences = helper.load_data('data/small_vocab_fr')\n",
    "\n",
    "print('Dataset Loaded')"
   ]
  },
  {
   "cell_type": "markdown",
   "metadata": {},
   "source": [
    "\n",
    "Each line in `small_vocab_en` contains an English sentence with the respective translation in each line of `small_vocab_fr`. "
   ]
  },
  {
   "cell_type": "code",
   "execution_count": 5,
   "metadata": {},
   "outputs": [
    {
     "name": "stdout",
     "output_type": "stream",
     "text": [
      "small_vocab_en Line 1:  new jersey is sometimes quiet during autumn , and it is snowy in april .\n",
      "small_vocab_fr Line 1:  new jersey est parfois calme pendant l' automne , et il est neigeux en avril .\n",
      "small_vocab_en Line 2:  the united states is usually chilly during july , and it is usually freezing in november .\n",
      "small_vocab_fr Line 2:  les états-unis est généralement froid en juillet , et il gèle habituellement en novembre .\n"
     ]
    }
   ],
   "source": [
    "for sample_i in range(2):\n",
    "    print('small_vocab_en Line {}:  {}'.format(sample_i + 1, english_sentences[sample_i]))\n",
    "    print('small_vocab_fr Line {}:  {}'.format(sample_i + 1, french_sentences[sample_i]))"
   ]
  },
  {
   "cell_type": "markdown",
   "metadata": {},
   "source": [
    "\n",
    "### Vocabulary\n"
   ]
  },
  {
   "cell_type": "code",
   "execution_count": 6,
   "metadata": {},
   "outputs": [
    {
     "name": "stdout",
     "output_type": "stream",
     "text": [
      "1823250 English words.\n",
      "227 unique English words.\n",
      "10 Most common words in the English dataset:\n",
      "\"is\" \",\" \".\" \"in\" \"it\" \"during\" \"the\" \"but\" \"and\" \"sometimes\"\n",
      "\n",
      "1961295 French words.\n",
      "355 unique French words.\n",
      "10 Most common words in the French dataset:\n",
      "\"est\" \".\" \",\" \"en\" \"il\" \"les\" \"mais\" \"et\" \"la\" \"parfois\"\n"
     ]
    }
   ],
   "source": [
    "english_words_counter = collections.Counter([word for sentence in english_sentences for word in sentence.split()])\n",
    "french_words_counter = collections.Counter([word for sentence in french_sentences for word in sentence.split()])\n",
    "\n",
    "print('{} English words.'.format(len([word for sentence in english_sentences for word in sentence.split()])))\n",
    "print('{} unique English words.'.format(len(english_words_counter)))\n",
    "print('10 Most common words in the English dataset:')\n",
    "print('\"' + '\" \"'.join(list(zip(*english_words_counter.most_common(10)))[0]) + '\"')\n",
    "print()\n",
    "print('{} French words.'.format(len([word for sentence in french_sentences for word in sentence.split()])))\n",
    "print('{} unique French words.'.format(len(french_words_counter)))\n",
    "print('10 Most common words in the French dataset:')\n",
    "print('\"' + '\" \"'.join(list(zip(*french_words_counter.most_common(10)))[0]) + '\"')"
   ]
  },
  {
   "cell_type": "markdown",
   "metadata": {},
   "source": [
    "\n",
    "## Preprocess\n",
    "Tokenization"
   ]
  },
  {
   "cell_type": "code",
   "execution_count": 7,
   "metadata": {},
   "outputs": [
    {
     "name": "stdout",
     "output_type": "stream",
     "text": [
      "{'the': 1, 'quick': 2, 'a': 3, 'brown': 4, 'fox': 5, 'jumps': 6, 'over': 7, 'lazy': 8, 'dog': 9, 'by': 10, 'jove': 11, 'my': 12, 'study': 13, 'of': 14, 'lexicography': 15, 'won': 16, 'prize': 17, 'this': 18, 'is': 19, 'short': 20, 'sentence': 21}\n",
      "\n",
      "Sequence 1 in x\n",
      "  Input:  The quick brown fox jumps over the lazy dog .\n",
      "  Output: [1, 2, 4, 5, 6, 7, 1, 8, 9]\n",
      "Sequence 2 in x\n",
      "  Input:  By Jove , my quick study of lexicography won a prize .\n",
      "  Output: [10, 11, 12, 2, 13, 14, 15, 16, 3, 17]\n",
      "Sequence 3 in x\n",
      "  Input:  This is a short sentence .\n",
      "  Output: [18, 19, 3, 20, 21]\n"
     ]
    }
   ],
   "source": [
    "def tokenize(x):\n",
    "    \"\"\"\n",
    "    Tokenize x\n",
    "    :param x: List of sentences/strings to be tokenized\n",
    "    :return: Tuple of (tokenized x data, tokenizer used to tokenize x)\n",
    "    \"\"\"\n",
    "    x_tk = Tokenizer(char_level=False)\n",
    "    x_tk.fit_on_texts(x)\n",
    "\n",
    "    return x_tk.texts_to_sequences(x), x_tk\n",
    "tests.test_tokenize(tokenize)\n",
    "\n",
    "\n",
    "text_sentences = [\n",
    "    'The quick brown fox jumps over the lazy dog .',\n",
    "    'By Jove , my quick study of lexicography won a prize .',\n",
    "    'This is a short sentence .']\n",
    "text_tokenized, text_tokenizer = tokenize(text_sentences)\n",
    "print(text_tokenizer.word_index)\n",
    "print()\n",
    "for sample_i, (sent, token_sent) in enumerate(zip(text_sentences, text_tokenized)):\n",
    "    print('Sequence {} in x'.format(sample_i + 1))\n",
    "    print('  Input:  {}'.format(sent))\n",
    "    print('  Output: {}'.format(token_sent))"
   ]
  },
  {
   "cell_type": "markdown",
   "metadata": {},
   "source": [
    "### Padding "
   ]
  },
  {
   "cell_type": "code",
   "execution_count": 8,
   "metadata": {},
   "outputs": [
    {
     "name": "stdout",
     "output_type": "stream",
     "text": [
      "Sequence 1 in x\n",
      "  Input:  [1 2 4 5 6 7 1 8 9]\n",
      "  Output: [1 2 4 5 6 7 1 8 9 0]\n",
      "Sequence 2 in x\n",
      "  Input:  [10 11 12  2 13 14 15 16  3 17]\n",
      "  Output: [10 11 12  2 13 14 15 16  3 17]\n",
      "Sequence 3 in x\n",
      "  Input:  [18 19  3 20 21]\n",
      "  Output: [18 19  3 20 21  0  0  0  0  0]\n"
     ]
    }
   ],
   "source": [
    "def pad(x, length=None):\n",
    "    \"\"\"\n",
    "    Pad x\n",
    "    :param x: List of sequences.\n",
    "    :param length: Length to pad the sequence to.  If None, use length of longest sequence in x.\n",
    "    :return: Padded numpy array of sequences\n",
    "    \"\"\"\n",
    "    \n",
    "    if length is None:\n",
    "        length = max([len(sentence) for sentence in x])\n",
    "    return pad_sequences(x, maxlen=length, padding='post')\n",
    "tests.test_pad(pad)\n",
    "\n",
    "\n",
    "test_pad = pad(text_tokenized)\n",
    "for sample_i, (token_sent, pad_sent) in enumerate(zip(text_tokenized, test_pad)):\n",
    "    print('Sequence {} in x'.format(sample_i + 1))\n",
    "    print('  Input:  {}'.format(np.array(token_sent)))\n",
    "    print('  Output: {}'.format(pad_sent))"
   ]
  },
  {
   "cell_type": "markdown",
   "metadata": {},
   "source": [
    "### Preprocess Pipeline\n"
   ]
  },
  {
   "cell_type": "code",
   "execution_count": 9,
   "metadata": {},
   "outputs": [
    {
     "name": "stdout",
     "output_type": "stream",
     "text": [
      "Data Preprocessed\n",
      "Max English sentence length: 15\n",
      "Max French sentence length: 21\n",
      "English vocabulary size: 199\n",
      "French vocabulary size: 344\n"
     ]
    }
   ],
   "source": [
    "def preprocess(x, y):\n",
    "    \"\"\"\n",
    "    Preprocess x and y\n",
    "    :param x: Feature List of sentences\n",
    "    :param y: Label List of sentences\n",
    "    :return: Tuple of (Preprocessed x, Preprocessed y, x tokenizer, y tokenizer)\n",
    "    \"\"\"\n",
    "    preprocess_x, x_tk = tokenize(x)\n",
    "    preprocess_y, y_tk = tokenize(y)\n",
    "\n",
    "    preprocess_x = pad(preprocess_x)\n",
    "    preprocess_y = pad(preprocess_y)\n",
    "\n",
    "    \n",
    "    preprocess_y = preprocess_y.reshape(*preprocess_y.shape, 1)\n",
    "\n",
    "    return preprocess_x, preprocess_y, x_tk, y_tk\n",
    "\n",
    "preproc_english_sentences, preproc_french_sentences, english_tokenizer, french_tokenizer =\\\n",
    "    preprocess(english_sentences, french_sentences)\n",
    "    \n",
    "max_english_sequence_length = preproc_english_sentences.shape[1]\n",
    "max_french_sequence_length = preproc_french_sentences.shape[1]\n",
    "english_vocab_size = len(english_tokenizer.word_index)\n",
    "french_vocab_size = len(french_tokenizer.word_index)\n",
    "\n",
    "print('Data Preprocessed')\n",
    "print(\"Max English sentence length:\", max_english_sequence_length)\n",
    "print(\"Max French sentence length:\", max_french_sequence_length)\n",
    "print(\"English vocabulary size:\", english_vocab_size)\n",
    "print(\"French vocabulary size:\", french_vocab_size)"
   ]
  },
  {
   "cell_type": "markdown",
   "metadata": {},
   "source": [
    "\n",
    "### Ids Back to Text\n",
    "The neural network will be translating the input to words ids, which isn't the final form we want.  We want the French translation.  The function `logits_to_text` will bridge the gab between the logits from the neural network to the French translation. "
   ]
  },
  {
   "cell_type": "code",
   "execution_count": 10,
   "metadata": {},
   "outputs": [
    {
     "name": "stdout",
     "output_type": "stream",
     "text": [
      "`logits_to_text` function loaded.\n"
     ]
    }
   ],
   "source": [
    "def logits_to_text(logits, tokenizer):\n",
    "    \"\"\"\n",
    "    Turn logits from a neural network into text using the tokenizer\n",
    "    :param logits: Logits from a neural network\n",
    "    :param tokenizer: Keras Tokenizer fit on the labels\n",
    "    :return: String that represents the text of the logits\n",
    "    \"\"\"\n",
    "    index_to_words = {id: word for word, id in tokenizer.word_index.items()}\n",
    "    index_to_words[0] = '<PAD>'\n",
    "\n",
    "    return ' '.join([index_to_words[prediction] for prediction in np.argmax(logits, 1)])\n",
    "\n",
    "print('`logits_to_text` function loaded.')"
   ]
  },
  {
   "cell_type": "markdown",
   "metadata": {},
   "source": [
    "### Model 1: Basic RNN "
   ]
  },
  {
   "cell_type": "code",
   "execution_count": 11,
   "metadata": {},
   "outputs": [
    {
     "name": "stdout",
     "output_type": "stream",
     "text": [
      "Train on 110288 samples, validate on 27573 samples\n",
      "Epoch 1/10\n",
      "110288/110288 [==============================] - 12s 111us/step - loss: 3.4108 - acc: 0.4193 - val_loss: nan - val_acc: 0.4566\n",
      "Epoch 2/10\n",
      "110288/110288 [==============================] - 10s 87us/step - loss: 2.4486 - acc: 0.4714 - val_loss: nan - val_acc: 0.4830\n",
      "Epoch 3/10\n",
      "110288/110288 [==============================] - 10s 88us/step - loss: 2.2019 - acc: 0.5088 - val_loss: nan - val_acc: 0.5431\n",
      "Epoch 4/10\n",
      "110288/110288 [==============================] - 10s 88us/step - loss: 1.9563 - acc: 0.5542 - val_loss: nan - val_acc: 0.5697\n",
      "Epoch 5/10\n",
      "110288/110288 [==============================] - 10s 87us/step - loss: 1.7824 - acc: 0.5757 - val_loss: nan - val_acc: 0.5831\n",
      "Epoch 6/10\n",
      "110288/110288 [==============================] - 10s 87us/step - loss: 1.6865 - acc: 0.5854 - val_loss: nan - val_acc: 0.5904\n",
      "Epoch 7/10\n",
      "110288/110288 [==============================] - 10s 87us/step - loss: 1.6241 - acc: 0.5908 - val_loss: nan - val_acc: 0.5949\n",
      "Epoch 8/10\n",
      "110288/110288 [==============================] - 10s 87us/step - loss: 1.5763 - acc: 0.5963 - val_loss: nan - val_acc: 0.6013\n",
      "Epoch 9/10\n",
      "110288/110288 [==============================] - 10s 87us/step - loss: 1.5341 - acc: 0.6024 - val_loss: nan - val_acc: 0.6062\n",
      "Epoch 10/10\n",
      "110288/110288 [==============================] - 10s 87us/step - loss: 1.4943 - acc: 0.6107 - val_loss: nan - val_acc: 0.6131\n",
      "new jersey est parfois parfois en en et il est est en en <PAD> <PAD> <PAD> <PAD> <PAD> <PAD> <PAD> <PAD>\n"
     ]
    }
   ],
   "source": [
    "def simple_model(input_shape, output_sequence_length, english_vocab_size, french_vocab_size):\n",
    "    \n",
    "    learning_rate = 1e-3\n",
    "    \n",
    "    input_seq = Input(input_shape[1:])\n",
    "    rnn = GRU(64, return_sequences=True)(input_seq)\n",
    "    logits = TimeDistributed(Dense(french_vocab_size))(rnn)\n",
    "\n",
    "    model = Model(input_seq, Activation('softmax')(logits))\n",
    "    model.compile(loss=sparse_categorical_crossentropy,\n",
    "                  optimizer=Adam(learning_rate),\n",
    "                  metrics=['accuracy'])\n",
    "    return model\n",
    "    \n",
    "\n",
    "\n",
    "# Reshaping the input to work with a basic RNN\n",
    "tmp_x = pad(preproc_english_sentences, max_french_sequence_length)\n",
    "tmp_x = tmp_x.reshape((-1, preproc_french_sentences.shape[-2], 1))\n",
    "\n",
    "# Train the neural network\n",
    "simple_rnn_model = simple_model(\n",
    "    tmp_x.shape,\n",
    "    max_french_sequence_length,\n",
    "    english_vocab_size,\n",
    "    french_vocab_size)\n",
    "simple_rnn_model.fit(tmp_x, preproc_french_sentences, batch_size=1024, epochs=10, validation_split=0.2)\n",
    "\n",
    "\n",
    "print(logits_to_text(simple_rnn_model.predict(tmp_x[:1])[0], french_tokenizer))"
   ]
  },
  {
   "cell_type": "markdown",
   "metadata": {},
   "source": [
    "### Model 2: Embedding "
   ]
  },
  {
   "cell_type": "code",
   "execution_count": 12,
   "metadata": {},
   "outputs": [
    {
     "name": "stdout",
     "output_type": "stream",
     "text": [
      "Train on 110288 samples, validate on 27573 samples\n",
      "Epoch 1/10\n",
      "110288/110288 [==============================] - 17s 150us/step - loss: 3.1671 - acc: 0.4295 - val_loss: nan - val_acc: 0.5010\n",
      "Epoch 2/10\n",
      "110288/110288 [==============================] - 16s 148us/step - loss: 1.8798 - acc: 0.5745 - val_loss: nan - val_acc: 0.6529\n",
      "Epoch 3/10\n",
      "110288/110288 [==============================] - 16s 148us/step - loss: 1.2003 - acc: 0.7083 - val_loss: nan - val_acc: 0.7612\n",
      "Epoch 4/10\n",
      "110288/110288 [==============================] - 16s 148us/step - loss: 0.8403 - acc: 0.7844 - val_loss: nan - val_acc: 0.8085\n",
      "Epoch 5/10\n",
      "110288/110288 [==============================] - 16s 148us/step - loss: 0.6319 - acc: 0.8241 - val_loss: nan - val_acc: 0.8366\n",
      "Epoch 6/10\n",
      "110288/110288 [==============================] - 16s 148us/step - loss: 0.5120 - acc: 0.8506 - val_loss: nan - val_acc: 0.8632\n",
      "Epoch 7/10\n",
      "110288/110288 [==============================] - 16s 149us/step - loss: 0.4338 - acc: 0.8707 - val_loss: nan - val_acc: 0.8798\n",
      "Epoch 8/10\n",
      "110288/110288 [==============================] - 16s 149us/step - loss: 0.3785 - acc: 0.8852 - val_loss: nan - val_acc: 0.8870\n",
      "Epoch 9/10\n",
      "110288/110288 [==============================] - 16s 150us/step - loss: 0.3398 - acc: 0.8954 - val_loss: nan - val_acc: 0.9000\n",
      "Epoch 10/10\n",
      "110288/110288 [==============================] - 16s 149us/step - loss: 0.3113 - acc: 0.9033 - val_loss: nan - val_acc: 0.8988\n",
      "new jersey est parfois calme en l' automne et il est neigeux en <PAD> <PAD> <PAD> <PAD> <PAD> <PAD> <PAD> <PAD>\n"
     ]
    }
   ],
   "source": [
    "def embed_model(input_shape, output_sequence_length, english_vocab_size, french_vocab_size):\n",
    "\n",
    "        \n",
    "    embedding_size = 128\n",
    "    rnn_units = 256\n",
    "    learning_rate = 1e-3\n",
    "    \n",
    "    model = Sequential()\n",
    "    \n",
    "    model.add(Embedding(input_dim=english_vocab_size, output_dim=embedding_size, input_length=input_shape[1]))\n",
    "    \n",
    "    model.add(GRU(rnn_units, return_sequences=True))\n",
    "    \n",
    "    model.add(TimeDistributed(Dense(french_vocab_size, activation='softmax')))\n",
    "    \n",
    "    \n",
    "    model.compile(loss='sparse_categorical_crossentropy',\n",
    "                  optimizer=Adam(learning_rate),\n",
    "                  metrics=['accuracy'])\n",
    "    \n",
    "    return model\n",
    "\n",
    "\n",
    "\n",
    "\n",
    "\n",
    "tmp_x = pad(preproc_english_sentences, max_french_sequence_length)\n",
    "\n",
    "# Train the neural network\n",
    "embed_rnn_model = embed_model(\n",
    "    tmp_x.shape,\n",
    "    max_french_sequence_length,\n",
    "    english_vocab_size,\n",
    "    french_vocab_size)\n",
    "embed_rnn_model.fit(tmp_x, preproc_french_sentences, batch_size=1024, epochs=10, validation_split=0.2)\n",
    "\n",
    "\n",
    "print(logits_to_text(embed_rnn_model.predict(tmp_x[:1])[0], french_tokenizer))"
   ]
  },
  {
   "cell_type": "markdown",
   "metadata": {},
   "source": [
    "### Model 3: Bidirectional RNN"
   ]
  },
  {
   "cell_type": "code",
   "execution_count": 13,
   "metadata": {},
   "outputs": [
    {
     "name": "stdout",
     "output_type": "stream",
     "text": [
      "Train on 110288 samples, validate on 27573 samples\n",
      "Epoch 1/10\n",
      "110288/110288 [==============================] - 24s 218us/step - loss: 2.1429 - acc: 0.5454 - val_loss: nan - val_acc: 0.6098\n",
      "Epoch 2/10\n",
      "110288/110288 [==============================] - 24s 215us/step - loss: 1.3593 - acc: 0.6274 - val_loss: nan - val_acc: 0.6430\n",
      "Epoch 3/10\n",
      "110288/110288 [==============================] - 24s 215us/step - loss: 1.2082 - acc: 0.6525 - val_loss: nan - val_acc: 0.6638\n",
      "Epoch 4/10\n",
      "110288/110288 [==============================] - 24s 215us/step - loss: 1.1141 - acc: 0.6738 - val_loss: nan - val_acc: 0.6809TA: 17s - loss: 1.1455 - acc: 0. - E - ETA: 8s - loss: 1.1291 - ac - ETA\n",
      "Epoch 5/10\n",
      "110288/110288 [==============================] - 24s 215us/step - loss: 1.0410 - acc: 0.6865 - val_loss: nan - val_acc: 0.6921\n",
      "Epoch 6/10\n",
      "110288/110288 [==============================] - 24s 215us/step - loss: 0.9821 - acc: 0.6957 - val_loss: nan - val_acc: 0.7000\n",
      "Epoch 7/10\n",
      "110288/110288 [==============================] - 24s 213us/step - loss: 0.9361 - acc: 0.7025 - val_loss: nan - val_acc: 0.7068\n",
      "Epoch 8/10\n",
      "110288/110288 [==============================] - 23s 213us/step - loss: 0.8989 - acc: 0.7088 - val_loss: nan - val_acc: 0.7126\n",
      "Epoch 9/10\n",
      "110288/110288 [==============================] - 24s 214us/step - loss: 0.8661 - acc: 0.7144 - val_loss: nan - val_acc: 0.7167\n",
      "Epoch 10/10\n",
      "110288/110288 [==============================] - 24s 214us/step - loss: 0.8456 - acc: 0.7169 - val_loss: nan - val_acc: 0.7212\n",
      "new jersey est parfois calme en l' et il et il en en en <PAD> <PAD> <PAD> <PAD> <PAD> <PAD> <PAD>\n"
     ]
    }
   ],
   "source": [
    "def bd_model(input_shape, output_sequence_length, english_vocab_size, french_vocab_size):\n",
    "\n",
    "    rnn_units = 256\n",
    "    learning_rate = 1e-3\n",
    "\n",
    "    model = Sequential()\n",
    "\n",
    "    model.add(Bidirectional(GRU(rnn_units, return_sequences=True), input_shape=input_shape[1:]))\n",
    "\n",
    "    model.add(TimeDistributed(Dense(french_vocab_size, activation='softmax')))\n",
    "\n",
    "    model.compile(loss='sparse_categorical_crossentropy',\n",
    "                  optimizer=Adam(learning_rate),\n",
    "                  metrics=['accuracy'])\n",
    "    \n",
    "    return model\n",
    "\n",
    "\n",
    "\n",
    "tmp_x = pad(preproc_english_sentences, max_french_sequence_length)\n",
    "tmp_x = tmp_x.reshape((-1, preproc_french_sentences.shape[-2], 1))\n",
    "\n",
    "\n",
    "bd_rnn_model = bd_model(\n",
    "    tmp_x.shape,  \n",
    "    max_french_sequence_length,\n",
    "    english_vocab_size,\n",
    "    french_vocab_size)\n",
    "bd_rnn_model.fit(tmp_x, preproc_french_sentences, batch_size=1024, epochs=10, validation_split=0.2)\n",
    "\n",
    "\n",
    "print(logits_to_text(bd_rnn_model.predict(tmp_x[:1])[0], french_tokenizer))"
   ]
  },
  {
   "cell_type": "markdown",
   "metadata": {},
   "source": [
    "### Model 4: Encoder-Decoder "
   ]
  },
  {
   "cell_type": "code",
   "execution_count": 14,
   "metadata": {},
   "outputs": [
    {
     "name": "stdout",
     "output_type": "stream",
     "text": [
      "Train on 110288 samples, validate on 27573 samples\n",
      "Epoch 1/10\n",
      "110288/110288 [==============================] - 25s 231us/step - loss: 2.5359 - acc: 0.4873 - val_loss: nan - val_acc: 0.5541\n",
      "Epoch 2/10\n",
      "110288/110288 [==============================] - 25s 224us/step - loss: 1.6563 - acc: 0.5747 - val_loss: nan - val_acc: 0.5898\n",
      "Epoch 3/10\n",
      "110288/110288 [==============================] - 25s 224us/step - loss: 1.4479 - acc: 0.6014 - val_loss: nan - val_acc: 0.6190\n",
      "Epoch 4/10\n",
      "110288/110288 [==============================] - 25s 225us/step - loss: 1.3265 - acc: 0.6275 - val_loss: nan - val_acc: 0.6276\n",
      "Epoch 5/10\n",
      "110288/110288 [==============================] - 25s 225us/step - loss: 1.2549 - acc: 0.6381 - val_loss: nan - val_acc: 0.6452\n",
      "Epoch 6/10\n",
      "110288/110288 [==============================] - 25s 225us/step - loss: 1.2078 - acc: 0.6456 - val_loss: nan - val_acc: 0.6509\n",
      "Epoch 7/10\n",
      "110288/110288 [==============================] - 25s 225us/step - loss: 1.1782 - acc: 0.6530 - val_loss: nan - val_acc: 0.6660\n",
      "Epoch 8/10\n",
      "110288/110288 [==============================] - 25s 226us/step - loss: 1.1680 - acc: 0.6545 - val_loss: nan - val_acc: 0.6479\n",
      "Epoch 9/10\n",
      "110288/110288 [==============================] - 25s 225us/step - loss: 1.1322 - acc: 0.6603 - val_loss: nan - val_acc: 0.6596\n",
      "Epoch 10/10\n",
      "110288/110288 [==============================] - 25s 224us/step - loss: 1.0996 - acc: 0.6685 - val_loss: nan - val_acc: 0.6813\n",
      "new jersey est jamais agréable en mois et il est il en en <PAD> <PAD> <PAD> <PAD> <PAD> <PAD> <PAD> <PAD>\n"
     ]
    }
   ],
   "source": [
    "def encdec_model(input_shape, output_sequence_length, english_vocab_size, french_vocab_size):\n",
    "    \n",
    "    learning_rate = 1e-3\n",
    "    \n",
    "    encoder_inputs = Input(shape=input_shape[1:])\n",
    "    encoder_gru = GRU(256, return_state=True)\n",
    "    encoder_outputs, encoder_state = encoder_gru(encoder_inputs)\n",
    "\n",
    "  \n",
    "    decoder_state = RepeatVector(output_sequence_length)(encoder_state)\n",
    "\n",
    "    \n",
    "    decoder_gru = GRU(256, return_sequences=True)\n",
    "    decoder_outputs = decoder_gru(decoder_state, initial_state=encoder_state)\n",
    "\n",
    "    \n",
    "    decoder_dense = Dense(french_vocab_size, activation='softmax')\n",
    "    decoder_outputs = decoder_dense(decoder_outputs)\n",
    "\n",
    "    \n",
    "    model = Model(inputs=encoder_inputs, outputs=decoder_outputs)\n",
    "\n",
    "    \n",
    "    model.compile(loss='sparse_categorical_crossentropy',\n",
    "                  optimizer=Adam(learning_rate),\n",
    "                  metrics=['accuracy'])\n",
    "\n",
    "    return model\n",
    "\n",
    "tmp_x = preproc_english_sentences\n",
    "tmp_x = tmp_x.reshape(preproc_english_sentences.shape[0],preproc_english_sentences.shape[1],1)\n",
    "\n",
    "encdec_rnn_model = encdec_model(\n",
    "    tmp_x.shape,\n",
    "    max_french_sequence_length,\n",
    "    english_vocab_size,\n",
    "    french_vocab_size)\n",
    "\n",
    "\n",
    "\n",
    "decoder_targets = preproc_french_sentences\n",
    "\n",
    "\n",
    "encdec_rnn_model.fit(tmp_x, decoder_targets, batch_size=1024, epochs=10, validation_split=0.2)\n",
    "print(logits_to_text(encdec_rnn_model.predict(tmp_x[:1])[0], french_tokenizer))\n",
    "\n",
    "\n"
   ]
  },
  {
   "cell_type": "markdown",
   "metadata": {},
   "source": [
    "### Model 5: Custom "
   ]
  },
  {
   "cell_type": "code",
   "execution_count": 19,
   "metadata": {},
   "outputs": [
    {
     "name": "stdout",
     "output_type": "stream",
     "text": [
      "Final Model Loaded\n",
      "Train on 110288 samples, validate on 27573 samples\n",
      "Epoch 1/10\n",
      "110288/110288 [==============================] - 38s 344us/step - loss: 2.3658 - acc: 0.4768 - val_loss: nan - val_acc: 0.0932\n",
      "Epoch 2/10\n",
      "110288/110288 [==============================] - 37s 332us/step - loss: 1.5400 - acc: 0.5987 - val_loss: nan - val_acc: 0.4100\n",
      "Epoch 3/10\n",
      "110288/110288 [==============================] - 37s 333us/step - loss: 1.0972 - acc: 0.6885 - val_loss: nan - val_acc: 0.4155\n",
      "Epoch 4/10\n",
      "110288/110288 [==============================] - 37s 333us/step - loss: 0.7900 - acc: 0.7691 - val_loss: nan - val_acc: 0.4503\n",
      "Epoch 5/10\n",
      "110288/110288 [==============================] - 37s 333us/step - loss: 0.5822 - acc: 0.8281 - val_loss: nan - val_acc: 0.5286\n",
      "Epoch 6/10\n",
      "110288/110288 [==============================] - 37s 333us/step - loss: 0.4476 - acc: 0.8690 - val_loss: nan - val_acc: 0.7694\n",
      "Epoch 7/10\n",
      "110288/110288 [==============================] - 37s 334us/step - loss: 0.3590 - acc: 0.8992 - val_loss: nan - val_acc: 0.9075\n",
      "Epoch 8/10\n",
      "110288/110288 [==============================] - 37s 334us/step - loss: 0.2792 - acc: 0.9301 - val_loss: nan - val_acc: 0.9410\n",
      "Epoch 9/10\n",
      "110288/110288 [==============================] - 37s 334us/step - loss: 0.2275 - acc: 0.9441 - val_loss: nan - val_acc: 0.9518\n",
      "Epoch 10/10\n",
      "110288/110288 [==============================] - 37s 334us/step - loss: 0.1857 - acc: 0.9559 - val_loss: nan - val_acc: 0.9494\n",
      "new jersey est parfois calme pendant l' automne et il est neigeux en avril <PAD> <PAD> <PAD> <PAD> <PAD> <PAD> <PAD>\n"
     ]
    }
   ],
   "source": [
    "def model_final(input_shape, output_sequence_length, english_vocab_size, french_vocab_size):\n",
    "\n",
    "    learning_rate = 1e-3\n",
    "    \n",
    "    encoder_input = Input(shape=input_shape[1:])\n",
    "    encoder_embed = Embedding(input_dim=english_vocab_size, output_dim=128)(encoder_input)\n",
    "    \n",
    "    \n",
    "    encoder_embed = BatchNormalization()(encoder_embed)\n",
    "    \n",
    "    encoder_rnn = Bidirectional(GRU(256, return_sequences=False))(encoder_embed)\n",
    "    \n",
    "    \n",
    "    encoder_rnn = BatchNormalization()(encoder_rnn)\n",
    "\n",
    "    decoder_input = RepeatVector(output_sequence_length)(encoder_rnn)\n",
    "    \n",
    "    decoder_rnn = GRU(256, return_sequences=True)(decoder_input)\n",
    "    decoder_output = TimeDistributed(Dense(french_vocab_size, activation='softmax'))(decoder_rnn)\n",
    "\n",
    "    \n",
    "    model = Model(inputs=encoder_input, outputs=decoder_output)\n",
    "\n",
    "    model.compile(loss='sparse_categorical_crossentropy',\n",
    "                  optimizer=Adam(learning_rate),\n",
    "                  metrics=['accuracy'])\n",
    "    \n",
    "    return model\n",
    "\n",
    "\n",
    "\n",
    "tmp_x = preproc_english_sentences\n",
    "\n",
    "model_final_rnn = model_final(\n",
    "    tmp_x.shape,\n",
    "    max_french_sequence_length,\n",
    "    english_vocab_size,\n",
    "    french_vocab_size)\n",
    "\n",
    "print('Final Model Loaded')\n",
    "\n",
    "model_final_rnn.fit(tmp_x, preproc_french_sentences, batch_size=1024, epochs=10, validation_split=0.2)\n",
    "\n",
    "\n",
    "print(logits_to_text(model_final_rnn.predict(tmp_x[:1])[0], french_tokenizer))\n",
    "\n"
   ]
  },
  {
   "cell_type": "markdown",
   "metadata": {},
   "source": [
    "## Prediction"
   ]
  },
  {
   "cell_type": "code",
   "execution_count": 20,
   "metadata": {},
   "outputs": [
    {
     "name": "stdout",
     "output_type": "stream",
     "text": [
      "Train on 110288 samples, validate on 27573 samples\n",
      "Epoch 1/10\n",
      "110288/110288 [==============================] - 38s 346us/step - loss: 2.3613 - acc: 0.4775 - val_loss: nan - val_acc: 0.2767\n",
      "Epoch 2/10\n",
      "110288/110288 [==============================] - 37s 333us/step - loss: 1.5162 - acc: 0.6009 - val_loss: nan - val_acc: 0.4093\n",
      "Epoch 3/10\n",
      "110288/110288 [==============================] - 37s 333us/step - loss: 1.0625 - acc: 0.6957 - val_loss: nan - val_acc: 0.4160\n",
      "Epoch 4/10\n",
      "110288/110288 [==============================] - 37s 333us/step - loss: 0.7472 - acc: 0.7839 - val_loss: nan - val_acc: 0.4490\n",
      "Epoch 5/10\n",
      "110288/110288 [==============================] - 37s 332us/step - loss: 0.5728 - acc: 0.8301 - val_loss: nan - val_acc: 0.5862\n",
      "Epoch 6/10\n",
      "110288/110288 [==============================] - 37s 332us/step - loss: 0.4463 - acc: 0.8695 - val_loss: nan - val_acc: 0.7802\n",
      "Epoch 7/10\n",
      "110288/110288 [==============================] - 37s 334us/step - loss: 0.3569 - acc: 0.8984 - val_loss: nan - val_acc: 0.9110\n",
      "Epoch 8/10\n",
      "110288/110288 [==============================] - 37s 334us/step - loss: 0.2801 - acc: 0.9294 - val_loss: nan - val_acc: 0.9250\n",
      "Epoch 9/10\n",
      "110288/110288 [==============================] - 37s 334us/step - loss: 0.2325 - acc: 0.9434 - val_loss: nan - val_acc: 0.9463\n",
      "Epoch 10/10\n",
      "110288/110288 [==============================] - 37s 333us/step - loss: 0.1956 - acc: 0.9526 - val_loss: nan - val_acc: 0.9490\n",
      "Sample 1:\n",
      "il a vu un vieux camion jaune <PAD> <PAD> <PAD> <PAD> <PAD> <PAD> <PAD> <PAD> <PAD> <PAD> <PAD> <PAD> <PAD> <PAD>\n",
      "Il a vu un vieux camion jaune\n",
      "Sample 2:\n",
      "new jersey est parfois calme pendant l' automne et il est neigeux en avril <PAD> <PAD> <PAD> <PAD> <PAD> <PAD> <PAD>\n",
      "new jersey est parfois calme pendant l' automne et il est neigeux en avril <PAD> <PAD> <PAD> <PAD> <PAD> <PAD> <PAD>\n"
     ]
    }
   ],
   "source": [
    "def final_predictions(x, y, x_tk, y_tk):\n",
    " \n",
    "    model = model_final(\n",
    "    x.shape,\n",
    "    max_french_sequence_length,\n",
    "    english_vocab_size,\n",
    "    french_vocab_size)\n",
    "    \n",
    "    model.fit(x, y, batch_size=1024, epochs=10, validation_split=0.2)\n",
    "    \n",
    "    \n",
    "    y_id_to_word = {value: key for key, value in y_tk.word_index.items()}\n",
    "    y_id_to_word[0] = '<PAD>'\n",
    "\n",
    "    sentence = 'he saw a old yellow truck'\n",
    "    sentence = [x_tk.word_index[word] for word in sentence.split()]\n",
    "    sentence = pad_sequences([sentence], maxlen=x.shape[-1], padding='post')\n",
    "    sentences = np.array([sentence[0], x[0]])\n",
    "    predictions = model.predict(sentences, len(sentences))\n",
    "\n",
    "    print('Sample 1:')\n",
    "    print(' '.join([y_id_to_word[np.argmax(x)] for x in predictions[0]]))\n",
    "    print('Il a vu un vieux camion jaune')\n",
    "    print('Sample 2:')\n",
    "    print(' '.join([y_id_to_word[np.argmax(x)] for x in predictions[1]]))\n",
    "    print(' '.join([y_id_to_word[np.max(x)] for x in y[0]]))\n",
    "\n",
    "\n",
    "final_predictions(preproc_english_sentences, preproc_french_sentences, english_tokenizer, french_tokenizer)"
   ]
  }
 ],
 "metadata": {
  "kernelspec": {
   "display_name": "Python 3",
   "language": "python",
   "name": "python3"
  },
  "language_info": {
   "codemirror_mode": {
    "name": "ipython",
    "version": 3
   },
   "file_extension": ".py",
   "mimetype": "text/x-python",
   "name": "python",
   "nbconvert_exporter": "python",
   "pygments_lexer": "ipython3",
   "version": "3.6.3"
  }
 },
 "nbformat": 4,
 "nbformat_minor": 1
}
